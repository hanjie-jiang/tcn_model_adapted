{
 "cells": [
  {
   "cell_type": "code",
   "execution_count": 87,
   "id": "6eed525b",
   "metadata": {},
   "outputs": [],
   "source": [
    "import pandas as pd\n",
    "import numpy as np"
   ]
  },
  {
   "cell_type": "code",
   "execution_count": 88,
   "id": "3b284d87",
   "metadata": {},
   "outputs": [],
   "source": [
    "data = pd.read_csv(\"tune_param.csv\")"
   ]
  },
  {
   "cell_type": "code",
   "execution_count": 89,
   "id": "4e442eb2",
   "metadata": {},
   "outputs": [
    {
     "data": {
      "text/html": [
       "<div>\n",
       "<style scoped>\n",
       "    .dataframe tbody tr th:only-of-type {\n",
       "        vertical-align: middle;\n",
       "    }\n",
       "\n",
       "    .dataframe tbody tr th {\n",
       "        vertical-align: top;\n",
       "    }\n",
       "\n",
       "    .dataframe thead th {\n",
       "        text-align: right;\n",
       "    }\n",
       "</style>\n",
       "<table border=\"1\" class=\"dataframe\">\n",
       "  <thead>\n",
       "    <tr style=\"text-align: right;\">\n",
       "      <th></th>\n",
       "      <th>Index</th>\n",
       "      <th>nhid</th>\n",
       "      <th>levels</th>\n",
       "      <th>percent</th>\n",
       "      <th>kernel</th>\n",
       "      <th>drop</th>\n",
       "      <th>lr</th>\n",
       "      <th>batch_size</th>\n",
       "      <th>epoch</th>\n",
       "    </tr>\n",
       "  </thead>\n",
       "  <tbody>\n",
       "    <tr>\n",
       "      <th>0</th>\n",
       "      <td>1</td>\n",
       "      <td>70</td>\n",
       "      <td>1</td>\n",
       "      <td>0.8</td>\n",
       "      <td>6</td>\n",
       "      <td>0.576811</td>\n",
       "      <td>0.001151</td>\n",
       "      <td>8</td>\n",
       "      <td>NaN</td>\n",
       "    </tr>\n",
       "    <tr>\n",
       "      <th>1</th>\n",
       "      <td>2</td>\n",
       "      <td>50</td>\n",
       "      <td>8</td>\n",
       "      <td>0.6</td>\n",
       "      <td>4</td>\n",
       "      <td>0.520825</td>\n",
       "      <td>0.000108</td>\n",
       "      <td>32</td>\n",
       "      <td>NaN</td>\n",
       "    </tr>\n",
       "    <tr>\n",
       "      <th>2</th>\n",
       "      <td>3</td>\n",
       "      <td>50</td>\n",
       "      <td>7</td>\n",
       "      <td>0.6</td>\n",
       "      <td>4</td>\n",
       "      <td>0.235228</td>\n",
       "      <td>0.000193</td>\n",
       "      <td>32</td>\n",
       "      <td>NaN</td>\n",
       "    </tr>\n",
       "    <tr>\n",
       "      <th>3</th>\n",
       "      <td>4</td>\n",
       "      <td>20</td>\n",
       "      <td>6</td>\n",
       "      <td>0.4</td>\n",
       "      <td>4</td>\n",
       "      <td>0.066101</td>\n",
       "      <td>0.003001</td>\n",
       "      <td>8</td>\n",
       "      <td>NaN</td>\n",
       "    </tr>\n",
       "    <tr>\n",
       "      <th>4</th>\n",
       "      <td>5</td>\n",
       "      <td>30</td>\n",
       "      <td>5</td>\n",
       "      <td>0.1</td>\n",
       "      <td>7</td>\n",
       "      <td>0.286545</td>\n",
       "      <td>0.010315</td>\n",
       "      <td>2</td>\n",
       "      <td>NaN</td>\n",
       "    </tr>\n",
       "  </tbody>\n",
       "</table>\n",
       "</div>"
      ],
      "text/plain": [
       "   Index  nhid  levels  percent  kernel      drop        lr  batch_size  epoch\n",
       "0      1    70       1      0.8       6  0.576811  0.001151           8    NaN\n",
       "1      2    50       8      0.6       4  0.520825  0.000108          32    NaN\n",
       "2      3    50       7      0.6       4  0.235228  0.000193          32    NaN\n",
       "3      4    20       6      0.4       4  0.066101  0.003001           8    NaN\n",
       "4      5    30       5      0.1       7  0.286545  0.010315           2    NaN"
      ]
     },
     "execution_count": 89,
     "metadata": {},
     "output_type": "execute_result"
    }
   ],
   "source": [
    "data = data.rename(columns={'Unnamed: 0': 'Index'})\n",
    "data.head()"
   ]
  },
  {
   "cell_type": "code",
   "execution_count": 100,
   "id": "d1d6abef",
   "metadata": {},
   "outputs": [],
   "source": [
    "def param_anal(colname, dataset):\n",
    "    count = dataset[colname].value_counts()\n",
    "    print(count)\n",
    "    avg = dataset[colname].mean()\n",
    "    med = dataset[colname].median()\n",
    "    print(\"mean of the \" , colname, \" value is: \", avg)\n",
    "    print(\"median of the \" , colname, \" value is: \", med)\n",
    "    return"
   ]
  },
  {
   "cell_type": "code",
   "execution_count": 101,
   "id": "f7642096",
   "metadata": {
    "scrolled": false
   },
   "outputs": [
    {
     "name": "stdout",
     "output_type": "stream",
     "text": [
      "70    24\n",
      "40    20\n",
      "30    19\n",
      "50    19\n",
      "60    18\n",
      "10    12\n",
      "20    12\n",
      "Name: nhid, dtype: int64\n",
      "mean of the  nhid  value is:  43.87096774193548\n",
      "median of the  nhid  value is:  40.0\n"
     ]
    }
   ],
   "source": [
    "param_anal(\"nhid\", data)"
   ]
  },
  {
   "cell_type": "code",
   "execution_count": 102,
   "id": "230bd454",
   "metadata": {},
   "outputs": [
    {
     "name": "stdout",
     "output_type": "stream",
     "text": [
      "2    17\n",
      "1    16\n",
      "5    16\n",
      "9    14\n",
      "3    13\n",
      "8    13\n",
      "4    12\n",
      "7    12\n",
      "6    11\n",
      "Name: levels, dtype: int64\n",
      "mean of the  levels  value is:  4.814516129032258\n",
      "median of the  levels  value is:  5.0\n"
     ]
    }
   ],
   "source": [
    "param_anal(\"levels\", data)"
   ]
  },
  {
   "cell_type": "code",
   "execution_count": 103,
   "id": "694c4236",
   "metadata": {},
   "outputs": [
    {
     "name": "stdout",
     "output_type": "stream",
     "text": [
      "0.8    19\n",
      "0.6    19\n",
      "0.1    16\n",
      "0.4    14\n",
      "0.3    14\n",
      "0.9    13\n",
      "0.2    11\n",
      "0.5    10\n",
      "0.7     8\n",
      "Name: percent, dtype: int64\n",
      "mean of the  percent  value is:  0.5040322580645159\n",
      "median of the  percent  value is:  0.5\n"
     ]
    }
   ],
   "source": [
    "param_anal(\"percent\", data)"
   ]
  },
  {
   "cell_type": "code",
   "execution_count": 94,
   "id": "1a304f90",
   "metadata": {},
   "outputs": [
    {
     "name": "stdout",
     "output_type": "stream",
     "text": [
      "8    22\n",
      "5    20\n",
      "7    19\n",
      "2    18\n",
      "3    17\n",
      "4    16\n",
      "6    12\n",
      "Name: kernel, dtype: int64\n",
      "mean of the  kernel  value is:  5.096774193548387\n"
     ]
    }
   ],
   "source": [
    "param_anal(\"kernel\", data)"
   ]
  },
  {
   "cell_type": "code",
   "execution_count": 95,
   "id": "7fd6afa1",
   "metadata": {},
   "outputs": [
    {
     "name": "stdout",
     "output_type": "stream",
     "text": [
      "0.1    29\n",
      "0.2    16\n",
      "0.5    13\n",
      "0.6    13\n",
      "0.4    12\n",
      "0.3    11\n",
      "0.8     8\n",
      "0.0     6\n",
      "0.7     6\n",
      "0.9     6\n",
      "1.0     4\n",
      "Name: drop_level, dtype: int64\n",
      "mean of the  drop_level  value is:  0.3911290322580648\n"
     ]
    }
   ],
   "source": [
    "data[\"drop_level\"] = round(data[\"drop\"] * 10) / 10\n",
    "param_anal(\"drop_level\", data)"
   ]
  },
  {
   "cell_type": "code",
   "execution_count": 96,
   "id": "3f4e8410",
   "metadata": {
    "scrolled": false
   },
   "outputs": [
    {
     "name": "stdout",
     "output_type": "stream",
     "text": [
      "-2.0    55\n",
      "-3.0    50\n",
      "-4.0    13\n",
      "-1.0     6\n",
      "Name: lr_level, dtype: int64\n",
      "mean of the  lr_level  value is:  -2.564516129032258\n"
     ]
    }
   ],
   "source": [
    "data[\"lr_level\"] = round(np.log10(data[\"lr\"]))\n",
    "param_anal(\"lr_level\", data)"
   ]
  },
  {
   "cell_type": "code",
   "execution_count": 98,
   "id": "0c04cdd6",
   "metadata": {},
   "outputs": [
    {
     "data": {
      "text/plain": [
       "0.0027257365073673117"
      ]
     },
     "execution_count": 98,
     "metadata": {},
     "output_type": "execute_result"
    }
   ],
   "source": [
    "10**(-2.564516129032258)"
   ]
  },
  {
   "cell_type": "code",
   "execution_count": 99,
   "id": "04c2f0dd",
   "metadata": {},
   "outputs": [
    {
     "name": "stdout",
     "output_type": "stream",
     "text": [
      "16    38\n",
      "8     27\n",
      "2     25\n",
      "4     23\n",
      "32    11\n",
      "Name: batch_size, dtype: int64\n",
      "mean of the  batch_size  value is:  10.629032258064516\n"
     ]
    }
   ],
   "source": [
    "param_anal(\"batch_size\", data)"
   ]
  },
  {
   "cell_type": "code",
   "execution_count": 104,
   "id": "057ecee7",
   "metadata": {},
   "outputs": [
    {
     "name": "stdout",
     "output_type": "stream",
     "text": [
      "10.0    3\n",
      "5.0     3\n",
      "20.0    2\n",
      "25.0    2\n",
      "Name: epoch, dtype: int64\n",
      "mean of the  epoch  value is:  13.5\n",
      "median of the  epoch  value is:  10.0\n"
     ]
    }
   ],
   "source": [
    "param_anal(\"epoch\", data)"
   ]
  },
  {
   "cell_type": "code",
   "execution_count": null,
   "id": "a9732dc9",
   "metadata": {},
   "outputs": [],
   "source": []
  }
 ],
 "metadata": {
  "kernelspec": {
   "display_name": "Python 3",
   "language": "python",
   "name": "python3"
  },
  "language_info": {
   "codemirror_mode": {
    "name": "ipython",
    "version": 3
   },
   "file_extension": ".py",
   "mimetype": "text/x-python",
   "name": "python",
   "nbconvert_exporter": "python",
   "pygments_lexer": "ipython3",
   "version": "3.8.8"
  }
 },
 "nbformat": 4,
 "nbformat_minor": 5
}
