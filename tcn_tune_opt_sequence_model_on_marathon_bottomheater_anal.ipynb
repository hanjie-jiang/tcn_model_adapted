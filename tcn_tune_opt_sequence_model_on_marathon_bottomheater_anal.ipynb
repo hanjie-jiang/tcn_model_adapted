{
 "cells": [
  {
   "cell_type": "markdown",
   "id": "50e33d78",
   "metadata": {},
   "source": [
    "### adapted from locuslab/TCN"
   ]
  },
  {
   "cell_type": "markdown",
   "id": "dfe58b28",
   "metadata": {},
   "source": [
    "#### importing libraries"
   ]
  },
  {
   "cell_type": "code",
   "execution_count": 1,
   "id": "8530c02d",
   "metadata": {},
   "outputs": [],
   "source": [
    "import numpy as np\n",
    "import matplotlib.pyplot as plt\n",
    "import pandas as pd\n",
    "import scipy as sp\n",
    "import csv\n",
    "import re\n",
    "from matplotlib import cm\n",
    "from sklearn import linear_model\n",
    "from sklearn.metrics import mean_squared_error, r2_score\n",
    "from sklearn.model_selection import train_test_split, cross_val_score\n",
    "from sklearn.preprocessing import PolynomialFeatures\n",
    "from sklearn.ensemble import RandomForestRegressor\n",
    "from sklearn.model_selection import cross_validate\n",
    "import random"
   ]
  },
  {
   "cell_type": "code",
   "execution_count": 2,
   "id": "30da8bb8",
   "metadata": {},
   "outputs": [],
   "source": [
    "from ray import tune"
   ]
  },
  {
   "cell_type": "code",
   "execution_count": 3,
   "id": "c9cf9125",
   "metadata": {},
   "outputs": [],
   "source": [
    "from functools import partial\n",
    "import os\n",
    "import torch\n",
    "import torch.nn as nn\n",
    "import torch.nn.functional as F\n",
    "import torch.optim as optim\n",
    "from filelock import FileLock\n",
    "from torch.utils.data import random_split\n",
    "import torchvision\n",
    "import torchvision.transforms as transforms\n",
    "import ray\n",
    "from ray import tune\n",
    "from ray.tune.schedulers import ASHAScheduler"
   ]
  },
  {
   "cell_type": "markdown",
   "id": "e8cd9c88",
   "metadata": {},
   "source": [
    "#### data cleaning"
   ]
  },
  {
   "cell_type": "code",
   "execution_count": 4,
   "id": "15bfae2c",
   "metadata": {},
   "outputs": [],
   "source": [
    "def data_cleaning(path, pattern_interest): \n",
    "    # reading in the data\n",
    "    data = pd.read_csv(path,header=0)\n",
    "    # sorting data in dataframe\n",
    "    df1 = pd.DataFrame(data)\n",
    "    \n",
    "    #getting only the step 11 related variables\n",
    "    step11vars = [col for col in df1.columns if col.split('.')[0] == '11']\n",
    "    df2 = df1.loc[:, df1.columns.isin(step11vars)]\n",
    "    \n",
    "    # getting only the faceplate, bottom heater and heater outerzone related variables within the step11 dataset\n",
    "\n",
    "    # bottom heater related\n",
    "    bottom_related = [col for col in df2.columns if 'Bottom' in col]\n",
    "    dfb = df2.loc[:, df2.columns.isin(bottom_related)]\n",
    "\n",
    "    # faceplate related\n",
    "    faceplate_related = [col for col in df2.columns if \"Faceplate\" in col]\n",
    "    dff = df2.loc[:, df2.columns.isin(faceplate_related)]\n",
    "\n",
    "    # heater outer-zone related\n",
    "    outer_related = [col for col in df2.columns if \"HeaterOuter\" in col]\n",
    "    dfo = df2.loc[:, df2.columns.isin(outer_related)]\n",
    "    \n",
    "    # heater exchanger related\n",
    "    hx_related = [col for col in df2.columns if \"HX\" in col]\n",
    "    dfx = df2.loc[:, df2.columns.isin(hx_related)]\n",
    "    \n",
    "    # heater exchanger related\n",
    "    inner_related = [col for col in df2.columns if \"HeaterInner\" in col]\n",
    "    dfi = df2.loc[:, df2.columns.isin(inner_related)]\n",
    "    \n",
    "    # merge the three keywords related datasets together into `dfall`\n",
    "    dfall = pd.concat([dfb, dff, dfo, dfx, dfi], axis=1)\n",
    "    \n",
    "    mean_related = [col for col in dfall.columns if \"mean\" in col]\n",
    "    dfmean = dfall.loc[:, dfall.columns.isin(mean_related)]\n",
    "    \n",
    "    #Xbotmean = dfmean[dfmean.columns.drop(list(dfmean.filter(regex='11.FaceplateHeater_Temperature.mean')))]\n",
    "    Xmean = dfmean[dfmean.columns.drop(list(dfmean.filter(regex=pattern_interest)))]\n",
    "    ymean = dfmean.loc[:,[pattern_interest]]\n",
    "    \n",
    "    return Xmean, ymean"
   ]
  },
  {
   "cell_type": "markdown",
   "id": "e6af038f",
   "metadata": {},
   "source": [
    "#### TCN module"
   ]
  },
  {
   "cell_type": "code",
   "execution_count": 5,
   "id": "8719558e",
   "metadata": {},
   "outputs": [],
   "source": [
    "from torch.nn.utils import weight_norm\n",
    "\n",
    "class Chomp1d(nn.Module):\n",
    "    def __init__(self, chomp_size):\n",
    "        super(Chomp1d, self).__init__()\n",
    "        self.chomp_size = chomp_size\n",
    "\n",
    "    def forward(self, x):\n",
    "        return x[:, :, :-self.chomp_size].contiguous()\n",
    "\n",
    "\n",
    "class TemporalBlock(nn.Module):\n",
    "    def __init__(self, n_inputs, n_outputs, kernel_size, stride, dilation, padding, dropout=0.2):\n",
    "        super(TemporalBlock, self).__init__()\n",
    "        self.conv1 = weight_norm(nn.Conv1d(n_inputs, n_outputs, kernel_size,\n",
    "                                           stride=stride, padding=padding, dilation=dilation))\n",
    "        self.chomp1 = Chomp1d(padding)\n",
    "        self.relu1 = nn.ReLU()\n",
    "        self.dropout1 = nn.Dropout(dropout)\n",
    "\n",
    "        self.conv2 = weight_norm(nn.Conv1d(n_outputs, n_outputs, kernel_size,\n",
    "                                           stride=stride, padding=padding, dilation=dilation))\n",
    "        self.chomp2 = Chomp1d(padding)\n",
    "        self.relu2 = nn.ReLU()\n",
    "        self.dropout2 = nn.Dropout(dropout)\n",
    "\n",
    "        self.net = nn.Sequential(self.conv1, self.chomp1, self.relu1, self.dropout1,\n",
    "                                 self.conv2, self.chomp2, self.relu2, self.dropout2)\n",
    "        self.downsample = nn.Conv1d(n_inputs, n_outputs, 1) if n_inputs != n_outputs else None\n",
    "        self.relu = nn.ReLU()\n",
    "        self.init_weights()\n",
    "\n",
    "    def init_weights(self):\n",
    "        self.conv1.weight.data.normal_(0, 0.01)\n",
    "        self.conv2.weight.data.normal_(0, 0.01)\n",
    "        if self.downsample is not None:\n",
    "            self.downsample.weight.data.normal_(0, 0.01)\n",
    "\n",
    "    def forward(self, x):\n",
    "        out = self.net(x)\n",
    "        res = x if self.downsample is None else self.downsample(x)\n",
    "        return self.relu(out + res)\n",
    "\n",
    "\n",
    "class TemporalConvNet(nn.Module):\n",
    "    def __init__(self, num_inputs, num_channels, kernel_size=2, dropout=0.2):\n",
    "        super(TemporalConvNet, self).__init__()\n",
    "        layers = []\n",
    "        num_levels = len(num_channels)\n",
    "        for i in range(num_levels):\n",
    "            dilation_size = 2 ** i\n",
    "            in_channels = num_inputs if i == 0 else num_channels[i-1]\n",
    "            out_channels = num_channels[i]\n",
    "            layers += [TemporalBlock(in_channels, out_channels, kernel_size, stride=1, dilation=dilation_size,\n",
    "                                     padding=(kernel_size-1) * dilation_size, dropout=dropout)]\n",
    "\n",
    "        self.network = nn.Sequential(*layers)\n",
    "\n",
    "    def forward(self, x):\n",
    "        return self.network(x)"
   ]
  },
  {
   "cell_type": "markdown",
   "id": "0719b979",
   "metadata": {},
   "source": [
    "#### upper level of the TCN model"
   ]
  },
  {
   "cell_type": "code",
   "execution_count": 6,
   "id": "3c579251",
   "metadata": {},
   "outputs": [],
   "source": [
    "from torch import nn\n",
    "import torch.nn.functional as F\n",
    "\n",
    "class TCN(nn.Module):\n",
    "    def __init__(self, input_size, output_size, num_channels, kernel_size, dropout):\n",
    "        super(TCN, self).__init__()\n",
    "        self.tcn = TemporalConvNet(input_size, num_channels, kernel_size=kernel_size, dropout=dropout)\n",
    "        self.linear = nn.Linear(num_channels[-1], output_size)\n",
    "        self.init_weights() # if the data needs to be weighted\n",
    "\n",
    "    def init_weights(self):\n",
    "        self.linear.weight.data.normal_(0, 0.01)\n",
    "\n",
    "    def forward(self, x):\n",
    "        y1 = self.tcn(x)  # if multidimensional, input should have dimension (N, C, L)\n",
    "        o = self.linear(y1[:, :, -1])\n",
    "        return o"
   ]
  },
  {
   "cell_type": "markdown",
   "id": "79a91209",
   "metadata": {},
   "source": [
    "#### data generator for the adding problem"
   ]
  },
  {
   "cell_type": "code",
   "execution_count": 7,
   "id": "45409e35",
   "metadata": {},
   "outputs": [],
   "source": [
    "from torch.autograd import Variable\n",
    "\n",
    "def data_generator(percent_train, seq_length, path):\n",
    "    \n",
    "    \"\"\"\n",
    "    Args:\n",
    "        seq_length: Length of the adding problem data\n",
    "        starting_index: the index of where the sequence starts; starting from 0\n",
    "    \"\"\"\n",
    "    # Specifying the feature columns that we need for predictions\n",
    "    col1 = '11.BottomHeater_Temperature.mean'\n",
    "    col2 = '11.FaceplateHeater_Temperature.mean'\n",
    "    col3 = '11.HeaterOuterZone_Temperature.mean'\n",
    "    col = [col1, col2, col3]\n",
    "    \n",
    "    # Giving the path to the data set\n",
    "    csv = path\n",
    "    \n",
    "    # Data cleaning, getting the feature matrix and \n",
    "    X_bot, y_bot = data_cleaning(csv, col1)\n",
    "    \n",
    "    X_bot = torch.tensor(X_bot.to_numpy()).float()\n",
    "    y_bot = torch.tensor(y_bot.to_numpy()).float()\n",
    "    print(\"converted X_bot \", X_bot.shape, \"and y_bot \", y_bot.shape, \" to tensors\\n\")\n",
    "    \n",
    "    X_bot1 = torch.reshape(X_bot, [1, X_bot.shape[1], X_bot.shape[0]]) #[1,14,274]\n",
    "    y_bot1 = torch.reshape(y_bot, [1, y_bot.shape[0]]) #[1,274]\n",
    "\n",
    "    first_test_idx = int(round(percent_train * X_bot.shape[0]))\n",
    "    X_train = X_bot1[:, :, 0:first_test_idx]\n",
    "    X_test = X_bot1[:, :, first_test_idx:]\n",
    "    y_train = y_bot1[:, 0:first_test_idx]\n",
    "    y_test = y_bot1[:, first_test_idx:]\n",
    "    \n",
    "    X_train_final = torch.zeros([X_train.shape[2]-seq_length, X_train.shape[1], seq_length]) #[196, 14, 10] = [206-10, 14, 10]\n",
    "    y_train_final = torch.zeros([y_train.shape[1]-seq_length, 1]) #[196, 1] = [206-10, 1]\n",
    "    X_test_final = torch.zeros([X_test.shape[2]-seq_length, X_test.shape[1], seq_length]) #[58, 14, 10] = [68-10, 14, 10]\n",
    "    y_test_final = torch.zeros([y_test.shape[1]-seq_length, 1]) #[58,1] = [68-10, 1]\n",
    "    \n",
    "    for i in range(X_train.shape[2]-seq_length):\n",
    "        X_train_final[i, :, :] = X_train[: , : , i:i+seq_length]\n",
    "        y_train_final[i, :] = y_train[: , i+seq_length:i+seq_length+1]\n",
    "        \n",
    "    for i in range(X_test.shape[2]-seq_length):\n",
    "        X_test_final[i, :, :] = X_test[: , : , i:i+seq_length]\n",
    "        y_test_final[i, :] = y_test[: , i+seq_length:i+seq_length+1]\n",
    "#         print(\"at index i = \", i, \"y_test[1, \", i+seq_length, \"] = \",y_test[: , i+seq_length:i+seq_length+1])\n",
    "#         print(\"at index i = \", i, \"y_test_final[\",i, \", :] = \", y_test_final[i, :])\n",
    "\n",
    "    \n",
    "#     print(\"Y_train shape is set to: \", y_train_final.shape, \"; Y_train type is: \", type(y_train_final), \"\\n\")\n",
    "#     print(\"X_train shape is set to: \", X_train_final.shape, \"; X_train type is: \", type(X_train_final), \"\\n\")\n",
    "#     print(\"Y_test shape is set to: \", y_test_final.shape, \"; Y_test type is: \", type(y_test_final), \"\\n\")\n",
    "#     print(\"X_test shape is set to: \", X_test_final.shape, \"; X_test type is: \", type(X_test_final), \"\\n\")    \n",
    "    \n",
    "    return Variable(X_train_final), Variable(y_train_final), Variable(X_test_final), Variable(y_test_final)"
   ]
  },
  {
   "cell_type": "markdown",
   "id": "5d987e44",
   "metadata": {},
   "source": [
    "#### parameters needed for the program"
   ]
  },
  {
   "cell_type": "code",
   "execution_count": 8,
   "id": "715f4970",
   "metadata": {},
   "outputs": [],
   "source": [
    "input_channels = 14 # # of input features\n",
    "n_classes = 1  #size of each output sample; output feature sizes of y_pred\n",
    "batch_size = 16 #batch size defaults to 32\n",
    "seq_length = 5 #sequence length; defaults to 400\n",
    "epochs = 10 #upper epoch limit; defaults to 10\n",
    "clip = -1 #args.clip; gradient clip, -1 means no clip (default: -1)\n",
    "log_interval = 100 #args.log_interval; 'report interval (default: 100')\n",
    "channel_sizes = [70]*2 #[args.nhid]*args.levels; number of hidden units per layer * # of levels\n",
    "kernel_size = 5 #args.ksize; kernel_size\n",
    "dropout =  0.0 #args.dropout; dropouts applied to each layer; defaults to 0.0\n",
    "model = TCN(input_channels, n_classes, channel_sizes, kernel_size=kernel_size, dropout=dropout)\n",
    "lr = 0.0027257365073673117 # learning rate is defaulted to be 0.0040\n",
    "optimizer = torch.optim.Adam(model.parameters(), lr=lr) #optimizer = getattr(optim, args.optim)(model.parameters(), lr=lr)"
   ]
  },
  {
   "cell_type": "code",
   "execution_count": 9,
   "id": "efa65da8",
   "metadata": {},
   "outputs": [
    {
     "name": "stdout",
     "output_type": "stream",
     "text": [
      "converted X_bot  torch.Size([274, 14]) and y_bot  torch.Size([274, 1])  to tensors\n",
      "\n",
      "torch.Size([214, 14, 5]) torch.Size([214, 1]) torch.Size([50, 14, 5]) torch.Size([50, 1])\n"
     ]
    }
   ],
   "source": [
    "percent = 0.8\n",
    "X_train, Y_train, X_test, Y_test = data_generator(percent, seq_length, r\"C:\\Users\\e177321\\Documents\\data\\Marathon_data.csv\")\n",
    "print(X_train.shape, Y_train.shape, X_test.shape, Y_test.shape)"
   ]
  },
  {
   "cell_type": "code",
   "execution_count": 10,
   "id": "17c7795a",
   "metadata": {},
   "outputs": [
    {
     "data": {
      "text/plain": [
       "torch.Tensor"
      ]
     },
     "execution_count": 10,
     "metadata": {},
     "output_type": "execute_result"
    }
   ],
   "source": [
    "type(Y_test)"
   ]
  },
  {
   "cell_type": "markdown",
   "id": "e784c8c3",
   "metadata": {},
   "source": [
    "#### training"
   ]
  },
  {
   "cell_type": "code",
   "execution_count": 11,
   "id": "ce8873bd",
   "metadata": {},
   "outputs": [],
   "source": [
    "def train(epoch, input_channels=14):\n",
    "    global lr\n",
    "    \n",
    "    model.train()\n",
    "    batch_idx = 1\n",
    "    total_loss = 0\n",
    "    for i in range(0, X_train.size(0), batch_size):\n",
    "        if i + batch_size > X_train.size(0):\n",
    "            x, y = X_train[i:], Y_train[i:]\n",
    "        else:\n",
    "            x, y = X_train[i:(i+batch_size)], Y_train[i:(i+batch_size)]\n",
    "            \n",
    "        #print(\"x.shape = \", x.shape, \"y.shape = \", y.shape)\n",
    "        optimizer.zero_grad()\n",
    "        output = model(x)\n",
    "        loss = torch.nn.functional.mse_loss(output, y)\n",
    "        loss.backward()\n",
    "        if clip > 0:\n",
    "            torch.nn.utils.clip_grad_norm_(model.parameters(), clip)\n",
    "        optimizer.step()\n",
    "        batch_idx += 1\n",
    "        total_loss += loss.item()\n",
    "\n",
    "        if batch_idx % log_interval == 0:\n",
    "            cur_loss = total_loss / log_interval\n",
    "            processed = min(i+batch_size, X_train.size(0))\n",
    "            print('Train Epoch: {:2d} [{:6d}/{:6d} ({:.0f}%)]\\tLearning rate: {:.4f}\\tLoss: {:.6f}'.format(\n",
    "                epoch, processed, X_train.size(0), 100.*processed/X_train.size(0), lr, cur_loss))\n",
    "            total_loss = 0"
   ]
  },
  {
   "cell_type": "markdown",
   "id": "6e0e5073",
   "metadata": {},
   "source": [
    "#### testing"
   ]
  },
  {
   "cell_type": "code",
   "execution_count": 12,
   "id": "55ae7c9b",
   "metadata": {},
   "outputs": [],
   "source": [
    "def evaluate():\n",
    "    model.eval()\n",
    "    with torch.no_grad():\n",
    "        output = model(X_test)\n",
    "        test_loss = torch.nn.functional.mse_loss(output, Y_test)\n",
    "        print('\\nTest set: Average loss: {:.6f}\\n'.format(test_loss.item()))\n",
    "        return Y_test, output, test_loss.item()"
   ]
  },
  {
   "cell_type": "code",
   "execution_count": 13,
   "id": "1a2c9fd7",
   "metadata": {},
   "outputs": [
    {
     "data": {
      "text/plain": [
       "torch.Tensor"
      ]
     },
     "execution_count": 13,
     "metadata": {},
     "output_type": "execute_result"
    }
   ],
   "source": [
    "type(Y_test)"
   ]
  },
  {
   "cell_type": "code",
   "execution_count": 14,
   "id": "f24f572d",
   "metadata": {
    "scrolled": true
   },
   "outputs": [
    {
     "name": "stdout",
     "output_type": "stream",
     "text": [
      "\n",
      "Test set: Average loss: 837.386414\n",
      "\n",
      "\n",
      "Test set: Average loss: 17.486008\n",
      "\n",
      "\n",
      "Test set: Average loss: 39.842075\n",
      "\n",
      "\n",
      "Test set: Average loss: 1.321211\n",
      "\n",
      "\n",
      "Test set: Average loss: 0.679870\n",
      "\n",
      "\n",
      "Test set: Average loss: 0.067076\n",
      "\n",
      "\n",
      "Test set: Average loss: 0.042416\n",
      "\n",
      "\n",
      "Test set: Average loss: 0.115663\n",
      "\n",
      "\n",
      "Test set: Average loss: 0.014595\n",
      "\n",
      "\n",
      "Test set: Average loss: 0.018467\n",
      "\n",
      "min loss found in ep  8 : minloss =  0.014594539068639278 \n",
      "\n"
     ]
    },
    {
     "data": {
      "image/png": "[encoded data removed]",
      "text/plain": [
       "<Figure size 432x288 with 1 Axes>"
      ]
     },
     "metadata": {
      "needs_background": "light"
     },
     "output_type": "display_data"
    }
   ],
   "source": [
    "loss = []\n",
    "lstoutput = []\n",
    "lstytest = []\n",
    "for ep in range(1, epochs+1):\n",
    "    train(ep)\n",
    "    ytest, output, test_loss = evaluate()  \n",
    "    loss.append(test_loss)\n",
    "    lstoutput.append(output.tolist())\n",
    "    lstytest.append(ytest.tolist())\n",
    "\n",
    "    minloss = min(loss)\n",
    "    minidx = loss.index(minloss)\n",
    "\n",
    "    ytest = lstytest[minidx]\n",
    "    output = lstoutput[minidx]\n",
    "\n",
    "print(\"min loss found in ep \", minidx, \": minloss = \", minloss, \"\\n\")\n",
    "\n",
    "f, ax = plt.subplots()\n",
    "ax.scatter(ytest, output,  color='black')\n",
    "ax.set_xlabel('Outputs from Marathon data')\n",
    "ax.set_ylabel('Outputs from predictions')\n",
    "\n",
    "plt.xlim(159.7,160.20)\n",
    "plt.ylim(159.7,160.20)\n",
    "#plt.gca().set_aspect('equal', adjustable='box')\n",
    "figname = \"bottom_tcn_opt\"\n",
    "ax.figure.savefig(figname, dpi=300)"
   ]
  },
  {
   "cell_type": "markdown",
   "id": "ac8f229a",
   "metadata": {},
   "source": [
    "**seq_length = 3:** min loss found in ep  7 : minloss =  0.046425484120845795 <br>\n",
    "**seq_length = 5:** min loss found in ep  6 : minloss =  0.03591875731945038  <br>\n",
    "**seq_length = 6:** min loss found in ep  6 : minloss =  0.0220029279589653   <br>\n",
    "**seq_length = 7:** min loss found in ep  8 : minloss =  0.024872690439224243 <br>\n",
    "**seq_length = 8:** min loss found in ep  8 : minloss =  0.0209933053702116   <br>\n",
    "**seq_length = 9** min loss found in ep  9 : minloss =  0.022520944476127625   <br>\n",
    "**seq_length = 10:** min loss found in ep  9 : minloss =  0.0950486958026886  <br>\n",
    "**seq_length = 12:** min loss found in ep  9 : minloss =  0.20230647921562195  <br>\n",
    "**seq_length = 15:** min loss found in ep  9 : minloss =  0.03576983883976936  <br>\n",
    "**seq_length = 20**min loss found in ep  8 : minloss =  0.11364954710006714  <br>"
   ]
  },
  {
   "cell_type": "code",
   "execution_count": 15,
   "id": "b6bcc765",
   "metadata": {
    "scrolled": true
   },
   "outputs": [],
   "source": [
    "# def evaluate():\n",
    "#     model.eval()\n",
    "#     with torch.no_grad():\n",
    "#         output = model(X_test)\n",
    "#         test_loss = torch.nn.functional.mse_loss(output, Y_test)\n",
    "#         print('\\nTest set: Average loss: {:.6f}\\n'.format(test_loss.item()))\n",
    "#         return test_loss\n",
    "\n",
    "# #loss = []\n",
    "\n",
    "# eploss = []\n",
    "\n",
    "# for i in [5, 10, 12, 15, 18, 20, 25, 30]:\n",
    "#     loss = []\n",
    "#     epochs = i\n",
    "#     for ep in range(1, epochs+1):\n",
    "#         train(ep)\n",
    "#         test_loss = evaluate()  \n",
    "#         loss.append(test_loss.item())\n",
    "\n",
    "#         minloss = min(loss)\n",
    "#         minidx = loss.index(minloss)\n",
    "        \n",
    "#     print(\"when epoch = \", i, \" minloss = \", minloss, \"\\n\")\n",
    "#     eploss.append([i, minloss])"
   ]
  },
  {
   "cell_type": "markdown",
   "id": "9ba78e51",
   "metadata": {},
   "source": [
    "when epoch =  5  minloss =  1.8050010204315186 <br>\n",
    "when epoch =  10  minloss =  0.02135978452861309 <br>\n",
    "when epoch =  12  minloss =  0.013690745458006859 <br>\n",
    "when epoch =  15  minloss =  0.013690745458006859<br>\n",
    "when epoch =  20  minloss =  0.013690745458006859 <br>\n",
    "when epoch =  25  minloss =  0.012305893003940582 <br>\n",
    "when epoch =  30  minloss =  0.012305893003940582 <br>"
   ]
  },
  {
   "cell_type": "code",
   "execution_count": 16,
   "id": "4a94e397",
   "metadata": {},
   "outputs": [],
   "source": [
    "# eploss = np.array(eploss)\n",
    "# figep, axep = plt.subplots()\n",
    "# plt.plot(eploss[:,0],eploss[:,1])\n",
    "# plt.scatter(eploss[:,0],eploss[:,1])\n",
    "# axep.figure.savefig(\"ep_effect.png\", dpi=300)"
   ]
  },
  {
   "cell_type": "markdown",
   "id": "71579943",
   "metadata": {},
   "source": [
    "**seq_length = 3:** min loss found in ep  7 : minloss =  0.046425484120845795 <br>\n",
    "**seq_length = 5:** min loss found in ep  6 : minloss =  0.03591875731945038  <br>\n",
    "**seq_length = 6:** min loss found in ep  6 : minloss =  0.0220029279589653   <br>\n",
    "**seq_length = 7:** min loss found in ep  8 : minloss =  0.024872690439224243 <br>\n",
    "**seq_length = 8:** min loss found in ep  8 : minloss =  0.0209933053702116   <br>\n",
    "**seq_length = 9** min loss found in ep  9 : minloss =  0.022520944476127625   <br>\n",
    "**seq_length = 10:** min loss found in ep  9 : minloss =  0.0950486958026886  <br>\n",
    "**seq_length = 12:** min loss found in ep  9 : minloss =  0.20230647921562195  <br>\n",
    "**seq_length = 15:** min loss found in ep  9 : minloss =  0.03576983883976936  <br>\n",
    "**seq_length = 20**min loss found in ep  8 : minloss =  0.11364954710006714  <br>"
   ]
  },
  {
   "cell_type": "code",
   "execution_count": 17,
   "id": "e51d2f69",
   "metadata": {},
   "outputs": [],
   "source": [
    "# seqloss = np.array(losscomp)\n",
    "# figseq, axseq = plt.subplots()\n",
    "# axseq.plot(seqloss[:,0], seqloss[:, 1])\n",
    "# axseq.scatter(seqloss[:,0], seqloss[:, 1])\n",
    "# axseq.figure.savefig(\"seq_length_effect\", dpi=300)"
   ]
  },
  {
   "cell_type": "code",
   "execution_count": 18,
   "id": "f3859c3b",
   "metadata": {},
   "outputs": [],
   "source": [
    "# a = min(seqloss[:,1])\n",
    "# print(a) "
   ]
  },
  {
   "cell_type": "code",
   "execution_count": 19,
   "id": "c14db4df",
   "metadata": {
    "scrolled": true
   },
   "outputs": [],
   "source": [
    "# losscomp"
   ]
  },
  {
   "cell_type": "code",
   "execution_count": null,
   "id": "61fec756",
   "metadata": {},
   "outputs": [],
   "source": []
  }
 ],
 "metadata": {
  "kernelspec": {
   "display_name": "Python 3",
   "language": "python",
   "name": "python3"
  },
  "language_info": {
   "codemirror_mode": {
    "name": "ipython",
    "version": 3
   },
   "file_extension": ".py",
   "mimetype": "text/x-python",
   "name": "python",
   "nbconvert_exporter": "python",
   "pygments_lexer": "ipython3",
   "version": "3.8.8"
  }
 },
 "nbformat": 4,
 "nbformat_minor": 5
}
